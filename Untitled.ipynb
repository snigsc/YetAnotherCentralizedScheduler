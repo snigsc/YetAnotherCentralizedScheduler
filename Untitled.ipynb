{
 "cells": [
  {
   "cell_type": "code",
   "execution_count": 1,
   "metadata": {},
   "outputs": [
    {
     "name": "stdout",
     "output_type": "stream",
     "text": [
      "Invalid input\n",
      "Done. Please check current working directory for files:\n",
      " barChart.png\n",
      " RANDOM_tasklogs.png\n",
      " RR_tasklogs.png\n",
      " LL_tasklogs.png\n"
     ]
    }
   ],
   "source": [
    "import pandas as pd\n",
    "import seaborn as sns\n",
    "import matplotlib as plt\n",
    "from statistics import *\n",
    "import sys\n",
    "import os.path\n",
    "\n",
    "mode = sys.argv[1]\n",
    "\n",
    "if mode=='1':\n",
    "    files = []\n",
    "    if os.path.isfile('RANDOM_joblogs.csv') and os.path.isfile('RANDOM_tasklogs.csv'):\n",
    "        files.append([open('RANDOM_joblogs.csv','r'),open('RANDOM_tasklogs.csv','r')])\n",
    "    if os.path.isfile('RR_joblogs.csv') and os.path.isfile('RR_tasklogs.csv'):\n",
    "        files.append([open('RR_joblogs.csv','r'),open('RR_tasklogs.csv','r')])\n",
    "    if os.path.isfile('LL_joblogs.csv') and os.path.isfile('LL_tasklogs.csv'):\n",
    "        files.append([open('LL_joblogs.csv','r'),open('LL_tasklogs.csv','r')])\n",
    "    # print(files)\n",
    "    for f in files:\n",
    "        next(f[0])\n",
    "        next(f[1])\n",
    "        jobList = []\n",
    "        taskList = []\n",
    "        jobList.extend([float(jobTime.strip().split(',')[-1]) for jobTime in f[0]])\n",
    "        # print (jobList)\n",
    "        taskList.extend([float(taskTime.strip().split(',')[-1]) for taskTime in f[1]])\n",
    "        # print (taskList)\n",
    "        f[0].close()\n",
    "        f[1].close()\n",
    "        try:\n",
    "            meanJobs = mean(jobList)\n",
    "            medianJobs = median(jobList)\n",
    "            meanTasks = mean(taskList)\n",
    "            medianTasks = median(taskList)\n",
    "            i = f[0].name.index('_')\n",
    "            print('\\nAlgorithm: '+f[0].name[:i])\n",
    "            print('Mean time for jobs: ', meanJobs, 's \\nMedian time for jobs: ', medianJobs, 's')\n",
    "            print('Mean time for tasks: ', meanTasks, 's \\nMedian time for tasks: ', medianTasks,'s \\n')\n",
    "        except:\n",
    "            pass\n",
    "    exit()   \n",
    "elif mode=='2':\n",
    "    pass \n",
    "else:\n",
    "    print('Invalid input')\n",
    "    exit()\n",
    "\n",
    "\n",
    "files = [['RANDOM_joblogs.csv','RANDOM_tasklogs.csv'],['RR_joblogs.csv','RR_tasklogs.csv'],['LL_joblogs.csv','LL_tasklogs.csv']]\n",
    "\n",
    "for f in files:\n",
    "    if not os.path.isfile(f[0]) or not os.path.isfile(f[1]):\n",
    "        print('Some required files are missing for visualization.\\nPlease run all three algorithms before entering mode 2 or enter mode 1 for individual analysis.')\n",
    "        exit()\n",
    "\n",
    "jmeanlst = ['Mean_Jobs']\n",
    "tmeanlst = ['Mean_Tasks']\n",
    "jmedianlst = ['Median_Jobs']\n",
    "tmedianlst = ['Median_Tasks']\n",
    "\n",
    "for f in files:\n",
    "    jobs = pd.read_csv(f[0])\n",
    "    tasks = pd.read_csv(f[1])\n",
    "    jmeanlst.append(mean(jobs['JobCompletionTime'].tolist()))\n",
    "    jmedianlst.append(median(jobs['JobCompletionTime'].tolist()))\n",
    "    tmeanlst.append(mean(tasks['TaskCompletionTime'].tolist()))\n",
    "    tmedianlst.append(median(tasks['TaskCompletionTime'].tolist()))\n",
    "    \n",
    "    #heatmap\n",
    "    time0 = min(tasks['startTime'].tolist())\n",
    "    timeN = max(tasks['endTime'].tolist())+1\n",
    "    time_X = []\n",
    "    for i in range(int(time0), int(timeN)):\n",
    "        time_X.append(i)\n",
    "    df = pd.DataFrame(columns = ['Worker1','Worker2','Worker3'],index=time_X)\n",
    "    df = df.fillna(0)\n",
    "    for i,row in tasks.iterrows():\n",
    "        w = str(row['WorkerID'])\n",
    "        for s in range(int(row['startTime']),int(row['endTime'])+1):\n",
    "            df.loc[s,'Worker'+w]+=1\n",
    "    sns.set(rc={'figure.figsize':(24,12)})\n",
    "    sns.heatmap(df.transpose(),cmap='Blues')\n",
    "    plt.pyplot.savefig(f[1][:-4]+'.png')\n",
    "\n",
    "# bar plot\n",
    "df = pd.DataFrame([jmeanlst,tmeanlst,jmedianlst,tmedianlst])\n",
    "df.columns = ['Metric','RANDOM','RR','LL']\n",
    "\n",
    "pos = list(range(len(df['LL'])))\n",
    "width = 0.25\n",
    "fig, ax = plt.pyplot.subplots(figsize=(10,5))\n",
    "plt.pyplot.bar(pos, df['LL'], width, alpha=0.5, color='#EE3224')\n",
    "plt.pyplot.bar([p + width for p in pos], df['RR'], width, alpha=0.5, color='#F78F1E')\n",
    "plt.pyplot.bar([p + width*2 for p in pos], df['RANDOM'], width, alpha=0.5, color='#FFC222')\n",
    "\n",
    "ax.set_ylabel('Time')\n",
    "ax.set_title('Comparison')\n",
    "ax.set_xticks([p + 1.5 * width for p in pos])\n",
    "ax.set_xticklabels(df['Metric'])\n",
    "plt.pyplot.xlim(min(pos)-width, max(pos)+width*4)\n",
    "plt.pyplot.ylim([0, max(df['LL'] + df['RR'] + df['RANDOM'])] )\n",
    "plt.pyplot.legend(['LL', 'RR', 'RANDOM'], loc='upper left')\n",
    "plt.pyplot.savefig('barChart.png')\n",
    "print('Done. Please check current working directory for files:\\n barChart.png\\n RANDOM_tasklogs.png\\n RR_tasklogs.png\\n LL_tasklogs.png')\n",
    "\n"
   ]
  },
  {
   "cell_type": "code",
   "execution_count": 7,
   "metadata": {},
   "outputs": [],
   "source": [
    "import pandas as pd\n",
    "import seaborn as sns\n",
    "tasks = pd.read_csv('RR_tasklogs.csv')"
   ]
  },
  {
   "cell_type": "code",
   "execution_count": 8,
   "metadata": {},
   "outputs": [
    {
     "ename": "NameError",
     "evalue": "name 'plt' is not defined",
     "output_type": "error",
     "traceback": [
      "\u001b[0;31m---------------------------------------------------------------------------\u001b[0m",
      "\u001b[0;31mNameError\u001b[0m                                 Traceback (most recent call last)",
      "\u001b[0;32m<ipython-input-8-23d8739b88ec>\u001b[0m in \u001b[0;36m<module>\u001b[0;34m\u001b[0m\n\u001b[1;32m     13\u001b[0m \u001b[0msns\u001b[0m\u001b[0;34m.\u001b[0m\u001b[0mset\u001b[0m\u001b[0;34m(\u001b[0m\u001b[0mrc\u001b[0m\u001b[0;34m=\u001b[0m\u001b[0;34m{\u001b[0m\u001b[0;34m'figure.figsize'\u001b[0m\u001b[0;34m:\u001b[0m\u001b[0;34m(\u001b[0m\u001b[0;36m24\u001b[0m\u001b[0;34m,\u001b[0m\u001b[0;36m12\u001b[0m\u001b[0;34m)\u001b[0m\u001b[0;34m}\u001b[0m\u001b[0;34m)\u001b[0m\u001b[0;34m\u001b[0m\u001b[0;34m\u001b[0m\u001b[0m\n\u001b[1;32m     14\u001b[0m \u001b[0msns\u001b[0m\u001b[0;34m.\u001b[0m\u001b[0mheatmap\u001b[0m\u001b[0;34m(\u001b[0m\u001b[0mdf\u001b[0m\u001b[0;34m.\u001b[0m\u001b[0mtranspose\u001b[0m\u001b[0;34m(\u001b[0m\u001b[0;34m)\u001b[0m\u001b[0;34m,\u001b[0m\u001b[0mcmap\u001b[0m\u001b[0;34m=\u001b[0m\u001b[0;34m'Blues'\u001b[0m\u001b[0;34m)\u001b[0m\u001b[0;34m\u001b[0m\u001b[0;34m\u001b[0m\u001b[0m\n\u001b[0;32m---> 15\u001b[0;31m \u001b[0mplt\u001b[0m\u001b[0;34m.\u001b[0m\u001b[0mpyplot\u001b[0m\u001b[0;34m.\u001b[0m\u001b[0msavefig\u001b[0m\u001b[0;34m(\u001b[0m\u001b[0mf\u001b[0m\u001b[0;34m[\u001b[0m\u001b[0;36m1\u001b[0m\u001b[0;34m]\u001b[0m\u001b[0;34m[\u001b[0m\u001b[0;34m:\u001b[0m\u001b[0;34m-\u001b[0m\u001b[0;36m4\u001b[0m\u001b[0;34m]\u001b[0m\u001b[0;34m+\u001b[0m\u001b[0;34m'.png'\u001b[0m\u001b[0;34m)\u001b[0m\u001b[0;34m\u001b[0m\u001b[0;34m\u001b[0m\u001b[0m\n\u001b[0m",
      "\u001b[0;31mNameError\u001b[0m: name 'plt' is not defined"
     ]
    },
    {
     "data": {
      "image/png": "[encoded data removed]",
      "text/plain": [
       "<Figure size 1728x864 with 2 Axes>"
      ]
     },
     "metadata": {},
     "output_type": "display_data"
    }
   ],
   "source": [
    "#heatmap\n",
    "time0 = min(tasks['startTime'].tolist())\n",
    "timeN = max(tasks['endTime'].tolist())+1\n",
    "time_X = []\n",
    "for i in range(int(time0), int(timeN)):\n",
    "    time_X.append(i)\n",
    "df = pd.DataFrame(columns = ['Worker1','Worker2','Worker3'],index=time_X)\n",
    "df = df.fillna(0)\n",
    "for i,row in tasks.iterrows():\n",
    "    w = str(row['WorkerID'])\n",
    "    for s in range(int(row['startTime']),int(row['endTime'])+1):\n",
    "        df.loc[s,'Worker'+w]+=1\n",
    "sns.set(rc={'figure.figsize':(24,12)})\n",
    "sns.heatmap(df.transpose(),cmap='Blues')\n",
    "plt.pyplot.savefig(f[1][:-4]+'.png')"
   ]
  },
  {
   "cell_type": "code",
   "execution_count": null,
   "metadata": {},
   "outputs": [],
   "source": []
  }
 ],
 "metadata": {
  "kernelspec": {
   "display_name": "Python 3",
   "language": "python",
   "name": "python3"
  },
  "language_info": {
   "codemirror_mode": {
    "name": "ipython",
    "version": 3
   },
   "file_extension": ".py",
   "mimetype": "text/x-python",
   "name": "python",
   "nbconvert_exporter": "python",
   "pygments_lexer": "ipython3",
   "version": "3.7.3"
  }
 },
 "nbformat": 4,
 "nbformat_minor": 2
}
