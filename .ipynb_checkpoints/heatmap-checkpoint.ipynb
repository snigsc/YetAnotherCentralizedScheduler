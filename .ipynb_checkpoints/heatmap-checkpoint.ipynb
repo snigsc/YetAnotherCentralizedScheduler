{
 "cells": [
  {
   "cell_type": "code",
   "execution_count": 19,
   "metadata": {},
   "outputs": [],
   "source": [
    "import pandas as pd\n",
    "import seaborn as sns\n",
    "import matplotlib as plt"
   ]
  },
  {
   "cell_type": "code",
   "execution_count": 20,
   "metadata": {},
   "outputs": [],
   "source": [
    "RR_tasks = pd.read_csv('RR_tasklogs.csv')"
   ]
  },
  {
   "cell_type": "code",
   "execution_count": 21,
   "metadata": {},
   "outputs": [],
   "source": [
    "time0 = min(RR_tasks['startTime'].tolist())\n",
    "timeN = max(RR_tasks['endTime'].tolist())+1"
   ]
  },
  {
   "cell_type": "code",
   "execution_count": 22,
   "metadata": {},
   "outputs": [],
   "source": [
    "time_X = []\n",
    "for i in range(int(time0), int(timeN)):\n",
    "    time_X.append(i)"
   ]
  },
  {
   "cell_type": "code",
   "execution_count": 23,
   "metadata": {},
   "outputs": [],
   "source": [
    "df = pd.DataFrame(columns = ['Worker1','Worker2','Worker3'],index=time_X)\n",
    "df = df.fillna(0)"
   ]
  },
  {
   "cell_type": "code",
   "execution_count": 24,
   "metadata": {},
   "outputs": [],
   "source": [
    "for i,row in RR_tasks.iterrows():\n",
    "    w = str(row['WorkerID'])\n",
    "    for s in range(int(row['startTime']),int(row['endTime'])+1):\n",
    "        df.loc[s,'Worker'+w]+=1"
   ]
  },
  {
   "cell_type": "code",
   "execution_count": 25,
   "metadata": {},
   "outputs": [
    {
     "data": {
      "image/png": "[encoded data removed]",
      "text/plain": [
       "<Figure size 1728x288 with 2 Axes>"
      ]
     },
     "metadata": {},
     "output_type": "display_data"
    }
   ],
   "source": [
    "sns.set(rc={'figure.figsize':(24,4)})\n",
    "sns.heatmap(df.transpose(),cmap='Blues')\n",
    "plt.pyplot.show()"
   ]
  },
  {
   "cell_type": "code",
   "execution_count": 26,
   "metadata": {},
   "outputs": [],
   "source": [
    "df1={'Metric': ['Mean_Jobs','Median_Jobs','Mean_Tasks','Median_Tasks'],\n",
    "            'LL': [0.4950894355773926, 0.2196495532989502, 0.19370413863140604, 0.08985757827758789],\n",
    "            'RR': [0.7589090883731842, 0.5186545848846436, 0.30528414830928896, 0.130295991897583],\n",
    "            'RANDOM': [0.9288120627403259, 0.6134793758392334, 0.36767449918782935, 0.15902090072631836]}\n",
    "df = pd.DataFrame(df1, columns = ['Metric', 'LL', 'RR', 'RANDOM'])"
   ]
  },
  {
   "cell_type": "code",
   "execution_count": 27,
   "metadata": {},
   "outputs": [
    {
     "data": {
      "text/html": [
       "<div>\n",
       "<style scoped>\n",
       "    .dataframe tbody tr th:only-of-type {\n",
       "        vertical-align: middle;\n",
       "    }\n",
       "\n",
       "    .dataframe tbody tr th {\n",
       "        vertical-align: top;\n",
       "    }\n",
       "\n",
       "    .dataframe thead th {\n",
       "        text-align: right;\n",
       "    }\n",
       "</style>\n",
       "<table border=\"1\" class=\"dataframe\">\n",
       "  <thead>\n",
       "    <tr style=\"text-align: right;\">\n",
       "      <th></th>\n",
       "      <th>Metric</th>\n",
       "      <th>LL</th>\n",
       "      <th>RR</th>\n",
       "      <th>RANDOM</th>\n",
       "    </tr>\n",
       "  </thead>\n",
       "  <tbody>\n",
       "    <tr>\n",
       "      <th>0</th>\n",
       "      <td>Mean_Jobs</td>\n",
       "      <td>0.495089</td>\n",
       "      <td>0.758909</td>\n",
       "      <td>0.928812</td>\n",
       "    </tr>\n",
       "    <tr>\n",
       "      <th>1</th>\n",
       "      <td>Median_Jobs</td>\n",
       "      <td>0.219650</td>\n",
       "      <td>0.518655</td>\n",
       "      <td>0.613479</td>\n",
       "    </tr>\n",
       "    <tr>\n",
       "      <th>2</th>\n",
       "      <td>Mean_Tasks</td>\n",
       "      <td>0.193704</td>\n",
       "      <td>0.305284</td>\n",
       "      <td>0.367674</td>\n",
       "    </tr>\n",
       "    <tr>\n",
       "      <th>3</th>\n",
       "      <td>Median_Tasks</td>\n",
       "      <td>0.089858</td>\n",
       "      <td>0.130296</td>\n",
       "      <td>0.159021</td>\n",
       "    </tr>\n",
       "  </tbody>\n",
       "</table>\n",
       "</div>"
      ],
      "text/plain": [
       "         Metric        LL        RR    RANDOM\n",
       "0     Mean_Jobs  0.495089  0.758909  0.928812\n",
       "1   Median_Jobs  0.219650  0.518655  0.613479\n",
       "2    Mean_Tasks  0.193704  0.305284  0.367674\n",
       "3  Median_Tasks  0.089858  0.130296  0.159021"
      ]
     },
     "execution_count": 27,
     "metadata": {},
     "output_type": "execute_result"
    }
   ],
   "source": [
    "df"
   ]
  },
  {
   "cell_type": "code",
   "execution_count": 29,
   "metadata": {},
   "outputs": [],
   "source": [
    "j = pd.read_csv('RR_joblogs.csv')\n",
    "t = pd.read_csv('') "
   ]
  },
  {
   "cell_type": "code",
   "execution_count": null,
   "metadata": {},
   "outputs": [],
   "source": []
  }
 ],
 "metadata": {
  "kernelspec": {
   "display_name": "Python 3",
   "language": "python",
   "name": "python3"
  },
  "language_info": {
   "codemirror_mode": {
    "name": "ipython",
    "version": 3
   },
   "file_extension": ".py",
   "mimetype": "text/x-python",
   "name": "python",
   "nbconvert_exporter": "python",
   "pygments_lexer": "ipython3",
   "version": "3.7.3"
  }
 },
 "nbformat": 4,
 "nbformat_minor": 2
}
